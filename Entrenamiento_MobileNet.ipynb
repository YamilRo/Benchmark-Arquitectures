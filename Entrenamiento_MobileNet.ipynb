{
  "nbformat": 4,
  "nbformat_minor": 0,
  "metadata": {
    "colab": {
      "provenance": [],
      "gpuType": "T4",
      "authorship_tag": "ABX9TyPymNyT6EwNuoSBFrM6SFIO",
      "include_colab_link": true
    },
    "kernelspec": {
      "name": "python3",
      "display_name": "Python 3"
    },
    "language_info": {
      "name": "python"
    },
    "accelerator": "GPU"
  },
  "cells": [
    {
      "cell_type": "markdown",
      "metadata": {
        "id": "view-in-github",
        "colab_type": "text"
      },
      "source": [
        "<a href=\"https://colab.research.google.com/github/YamilRo/Benchmark-Arquitectures/blob/main/Entrenamiento_MobileNet.ipynb\" target=\"_parent\"><img src=\"https://colab.research.google.com/assets/colab-badge.svg\" alt=\"Open In Colab\"/></a>"
      ]
    },
    {
      "cell_type": "code",
      "execution_count": null,
      "metadata": {
        "id": "Bxkv4PQ0gmw7"
      },
      "outputs": [],
      "source": [
        "import zipfile\n",
        "import os\n",
        "\n",
        "zip_ref = zipfile.ZipFile('Dataset.zip', 'r')\n",
        "zip_ref.extractall('/content/dataset')\n",
        "zip_ref.close()"
      ]
    },
    {
      "cell_type": "code",
      "source": [
        "import numpy as np\n",
        "import tensorflow as tf\n",
        "import tensorflow_hub as hub\n",
        "from tensorflow.keras.applications import MobileNetV2\n",
        "from tensorflow.keras.layers import Dense, GlobalAveragePooling2D, Dropout\n",
        "from tensorflow.keras.models import Model\n",
        "from tensorflow.keras.layers import BatchNormalization\n",
        "from tensorflow.keras.metrics import Precision, Recall\n",
        "from sklearn.metrics import f1_score, precision_score, recall_score, average_precision_score, confusion_matrix\n",
        "import matplotlib.pyplot as plt\n",
        "import seaborn as sns"
      ],
      "metadata": {
        "id": "mU5XtgRhg5Ut"
      },
      "execution_count": null,
      "outputs": []
    },
    {
      "cell_type": "code",
      "source": [
        "DATASET_DIR = '/content/dataset/Dataset'\n",
        "DATASET_DIR_TRAIN = '/content/dataset/Dataset/train'\n",
        "DATASET_DIR_VALID = '/content/dataset/Dataset/val'\n",
        "DATASET_DIR_TEST = '/content/dataset/Dataset/test'\n",
        "\n",
        "# Parámetros\n",
        "BATCH_SIZE = 32\n",
        "IMG_SIZE_MOBILENET = (224, 224)\n",
        "NUM_CLASSES = 3\n",
        "EPOCAS_ENTRENAMIENTO = 10\n",
        "EPOCAS_AFINACION = 10"
      ],
      "metadata": {
        "id": "-i-l3Hesg7wQ"
      },
      "execution_count": null,
      "outputs": []
    },
    {
      "cell_type": "code",
      "source": [
        "# Definir conjunto de entrenamiento y validación\n",
        "print(\"Cargando datos de entrenamiento...\")\n",
        "train_dataset_mobilenet = tf.keras.preprocessing.image_dataset_from_directory(\n",
        "    DATASET_DIR_TRAIN,\n",
        "    image_size=IMG_SIZE_MOBILENET,\n",
        "    batch_size=BATCH_SIZE,\n",
        "    shuffle=True,\n",
        "    label_mode='categorical')\n",
        "\n",
        "print(\"Cargando datos de validacion...\")\n",
        "val_dataset_mobilenet = tf.keras.preprocessing.image_dataset_from_directory(\n",
        "    DATASET_DIR_VALID,\n",
        "    image_size=IMG_SIZE_MOBILENET,\n",
        "    batch_size=BATCH_SIZE,\n",
        "    shuffle=True,\n",
        "    label_mode='categorical')\n",
        "\n",
        "print(\"Cargando datos de prueba...\")\n",
        "test_dataset_mobilenet = tf.keras.preprocessing.image_dataset_from_directory(\n",
        "    DATASET_DIR_TEST,\n",
        "    image_size=IMG_SIZE_MOBILENET,\n",
        "    batch_size=BATCH_SIZE,\n",
        "    shuffle=False,\n",
        "    label_mode='categorical')"
      ],
      "metadata": {
        "id": "OZ5fhd_sg-Nq",
        "colab": {
          "base_uri": "https://localhost:8080/"
        },
        "outputId": "3e33b27d-dfa1-4f84-ea97-c7b501c2a3ec"
      },
      "execution_count": null,
      "outputs": [
        {
          "output_type": "stream",
          "name": "stdout",
          "text": [
            "Cargando datos de entrenamiento...\n",
            "Found 14650 files belonging to 3 classes.\n",
            "Cargando datos de validacion...\n",
            "Found 489 files belonging to 3 classes.\n",
            "Cargando datos de prueba...\n",
            "Found 582 files belonging to 3 classes.\n"
          ]
        }
      ]
    },
    {
      "cell_type": "code",
      "source": [
        "preprocess_input = tf.keras.applications.mobilenet_v2.preprocess_input\n",
        "# Definir modelo base de mobileNet con 3 canales RGB y tamaño de imágenes\n",
        "base_model_mobilenet = MobileNetV2(weights='imagenet', include_top=False, input_shape=IMG_SIZE_MOBILENET + (3,))\n",
        "base_model_mobilenet.trainable = False #Congelar capas base para transfer learning\n",
        "image_batch, label_batch = next(iter(train_dataset_mobilenet))\n",
        "feature_batch = base_model_mobilenet(image_batch)\n",
        "global_average_layer = tf.keras.layers.GlobalAveragePooling2D()\n",
        "feature_batch_average = global_average_layer(feature_batch)\n",
        "print(feature_batch_average.shape)\n",
        "prediction_layer = tf.keras.layers.Dense(NUM_CLASSES, activation='softmax')\n",
        "prediction_batch = prediction_layer(feature_batch_average)\n",
        "print(prediction_batch.shape)\n",
        "inputs = tf.keras.Input(shape=(224, 224, 3))\n",
        "x = preprocess_input(inputs)\n",
        "x = base_model_mobilenet(x, training=False)\n",
        "x = global_average_layer(x)\n",
        "x = tf.keras.layers.Dropout(0.2)(x)\n",
        "outputs = prediction_layer(x)\n",
        "model_mobilenet = tf.keras.Model(inputs, outputs)\n"
      ],
      "metadata": {
        "colab": {
          "base_uri": "https://localhost:8080/"
        },
        "id": "u3ybGVjzhADq",
        "outputId": "ed8447b3-73fe-4fbc-fd0c-2e7362e067b5"
      },
      "execution_count": null,
      "outputs": [
        {
          "output_type": "stream",
          "name": "stdout",
          "text": [
            "Downloading data from https://storage.googleapis.com/tensorflow/keras-applications/mobilenet_v2/mobilenet_v2_weights_tf_dim_ordering_tf_kernels_1.0_224_no_top.h5\n",
            "\u001b[1m9406464/9406464\u001b[0m \u001b[32m━━━━━━━━━━━━━━━━━━━━\u001b[0m\u001b[37m\u001b[0m \u001b[1m0s\u001b[0m 0us/step\n",
            "(32, 1280)\n",
            "(32, 3)\n"
          ]
        }
      ]
    },
    {
      "cell_type": "code",
      "source": [
        "# Compilar y entrenar el modelo MobileNetV2\n",
        "\n",
        "base_learning_rate = 0.00003\n",
        "model_mobilenet.compile(optimizer=tf.keras.optimizers.Adam(learning_rate=base_learning_rate),\n",
        "                        loss='categorical_crossentropy',\n",
        "                        metrics=['accuracy'])\n",
        "\n",
        "history_mobilenet = model_mobilenet.fit(train_dataset_mobilenet,\n",
        "                                        validation_data=val_dataset_mobilenet,\n",
        "                                        epochs=EPOCAS_ENTRENAMIENTO)"
      ],
      "metadata": {
        "id": "6z3BALzniFW7",
        "colab": {
          "base_uri": "https://localhost:8080/"
        },
        "outputId": "d0291ed8-9541-4919-95b2-4f831969ab39"
      },
      "execution_count": null,
      "outputs": [
        {
          "output_type": "stream",
          "name": "stdout",
          "text": [
            "Epoch 1/10\n",
            "\u001b[1m458/458\u001b[0m \u001b[32m━━━━━━━━━━━━━━━━━━━━\u001b[0m\u001b[37m\u001b[0m \u001b[1m53s\u001b[0m 96ms/step - accuracy: 0.4172 - loss: 1.2641 - val_accuracy: 0.6585 - val_loss: 0.7818\n",
            "Epoch 2/10\n",
            "\u001b[1m458/458\u001b[0m \u001b[32m━━━━━━━━━━━━━━━━━━━━\u001b[0m\u001b[37m\u001b[0m \u001b[1m40s\u001b[0m 86ms/step - accuracy: 0.6941 - loss: 0.7127 - val_accuracy: 0.8200 - val_loss: 0.5519\n",
            "Epoch 3/10\n",
            "\u001b[1m458/458\u001b[0m \u001b[32m━━━━━━━━━━━━━━━━━━━━\u001b[0m\u001b[37m\u001b[0m \u001b[1m32s\u001b[0m 70ms/step - accuracy: 0.8035 - loss: 0.5307 - val_accuracy: 0.8609 - val_loss: 0.4558\n",
            "Epoch 4/10\n",
            "\u001b[1m458/458\u001b[0m \u001b[32m━━━━━━━━━━━━━━━━━━━━\u001b[0m\u001b[37m\u001b[0m \u001b[1m41s\u001b[0m 70ms/step - accuracy: 0.8363 - loss: 0.4495 - val_accuracy: 0.8732 - val_loss: 0.4037\n",
            "Epoch 5/10\n",
            "\u001b[1m458/458\u001b[0m \u001b[32m━━━━━━━━━━━━━━━━━━━━\u001b[0m\u001b[37m\u001b[0m \u001b[1m36s\u001b[0m 78ms/step - accuracy: 0.8580 - loss: 0.4018 - val_accuracy: 0.8732 - val_loss: 0.3743\n",
            "Epoch 6/10\n",
            "\u001b[1m458/458\u001b[0m \u001b[32m━━━━━━━━━━━━━━━━━━━━\u001b[0m\u001b[37m\u001b[0m \u001b[1m32s\u001b[0m 69ms/step - accuracy: 0.8683 - loss: 0.3715 - val_accuracy: 0.8834 - val_loss: 0.3523\n",
            "Epoch 7/10\n",
            "\u001b[1m458/458\u001b[0m \u001b[32m━━━━━━━━━━━━━━━━━━━━\u001b[0m\u001b[37m\u001b[0m \u001b[1m35s\u001b[0m 77ms/step - accuracy: 0.8767 - loss: 0.3458 - val_accuracy: 0.8855 - val_loss: 0.3386\n",
            "Epoch 8/10\n",
            "\u001b[1m458/458\u001b[0m \u001b[32m━━━━━━━━━━━━━━━━━━━━\u001b[0m\u001b[37m\u001b[0m \u001b[1m40s\u001b[0m 75ms/step - accuracy: 0.8830 - loss: 0.3285 - val_accuracy: 0.8916 - val_loss: 0.3260\n",
            "Epoch 9/10\n",
            "\u001b[1m458/458\u001b[0m \u001b[32m━━━━━━━━━━━━━━━━━━━━\u001b[0m\u001b[37m\u001b[0m \u001b[1m33s\u001b[0m 71ms/step - accuracy: 0.8855 - loss: 0.3207 - val_accuracy: 0.8937 - val_loss: 0.3188\n",
            "Epoch 10/10\n",
            "\u001b[1m458/458\u001b[0m \u001b[32m━━━━━━━━━━━━━━━━━━━━\u001b[0m\u001b[37m\u001b[0m \u001b[1m44s\u001b[0m 78ms/step - accuracy: 0.8895 - loss: 0.3090 - val_accuracy: 0.8978 - val_loss: 0.3090\n"
          ]
        }
      ]
    },
    {
      "cell_type": "code",
      "source": [
        "pip install keras-tuner"
      ],
      "metadata": {
        "colab": {
          "base_uri": "https://localhost:8080/"
        },
        "id": "PsbDst-47ICH",
        "outputId": "8857c6ec-dcda-47c6-d2f1-7fd683442845"
      },
      "execution_count": null,
      "outputs": [
        {
          "output_type": "stream",
          "name": "stdout",
          "text": [
            "Collecting keras-tuner\n",
            "  Downloading keras_tuner-1.4.7-py3-none-any.whl.metadata (5.4 kB)\n",
            "Requirement already satisfied: keras in /usr/local/lib/python3.10/dist-packages (from keras-tuner) (3.4.1)\n",
            "Requirement already satisfied: packaging in /usr/local/lib/python3.10/dist-packages (from keras-tuner) (24.1)\n",
            "Requirement already satisfied: requests in /usr/local/lib/python3.10/dist-packages (from keras-tuner) (2.32.3)\n",
            "Collecting kt-legacy (from keras-tuner)\n",
            "  Downloading kt_legacy-1.0.5-py3-none-any.whl.metadata (221 bytes)\n",
            "Requirement already satisfied: absl-py in /usr/local/lib/python3.10/dist-packages (from keras->keras-tuner) (1.4.0)\n",
            "Requirement already satisfied: numpy in /usr/local/lib/python3.10/dist-packages (from keras->keras-tuner) (1.26.4)\n",
            "Requirement already satisfied: rich in /usr/local/lib/python3.10/dist-packages (from keras->keras-tuner) (13.9.3)\n",
            "Requirement already satisfied: namex in /usr/local/lib/python3.10/dist-packages (from keras->keras-tuner) (0.0.8)\n",
            "Requirement already satisfied: h5py in /usr/local/lib/python3.10/dist-packages (from keras->keras-tuner) (3.12.1)\n",
            "Requirement already satisfied: optree in /usr/local/lib/python3.10/dist-packages (from keras->keras-tuner) (0.13.0)\n",
            "Requirement already satisfied: ml-dtypes in /usr/local/lib/python3.10/dist-packages (from keras->keras-tuner) (0.4.1)\n",
            "Requirement already satisfied: charset-normalizer<4,>=2 in /usr/local/lib/python3.10/dist-packages (from requests->keras-tuner) (3.4.0)\n",
            "Requirement already satisfied: idna<4,>=2.5 in /usr/local/lib/python3.10/dist-packages (from requests->keras-tuner) (3.10)\n",
            "Requirement already satisfied: urllib3<3,>=1.21.1 in /usr/local/lib/python3.10/dist-packages (from requests->keras-tuner) (2.2.3)\n",
            "Requirement already satisfied: certifi>=2017.4.17 in /usr/local/lib/python3.10/dist-packages (from requests->keras-tuner) (2024.8.30)\n",
            "Requirement already satisfied: typing-extensions>=4.5.0 in /usr/local/lib/python3.10/dist-packages (from optree->keras->keras-tuner) (4.12.2)\n",
            "Requirement already satisfied: markdown-it-py>=2.2.0 in /usr/local/lib/python3.10/dist-packages (from rich->keras->keras-tuner) (3.0.0)\n",
            "Requirement already satisfied: pygments<3.0.0,>=2.13.0 in /usr/local/lib/python3.10/dist-packages (from rich->keras->keras-tuner) (2.18.0)\n",
            "Requirement already satisfied: mdurl~=0.1 in /usr/local/lib/python3.10/dist-packages (from markdown-it-py>=2.2.0->rich->keras->keras-tuner) (0.1.2)\n",
            "Downloading keras_tuner-1.4.7-py3-none-any.whl (129 kB)\n",
            "\u001b[?25l   \u001b[90m━━━━━━━━━━━━━━━━━━━━━━━━━━━━━━━━━━━━━━━━\u001b[0m \u001b[32m0.0/129.1 kB\u001b[0m \u001b[31m?\u001b[0m eta \u001b[36m-:--:--\u001b[0m\r\u001b[2K   \u001b[90m━━━━━━━━━━━━━━━━━━━━━━━━━━━━━━━━━━━━━━━━\u001b[0m \u001b[32m129.1/129.1 kB\u001b[0m \u001b[31m4.2 MB/s\u001b[0m eta \u001b[36m0:00:00\u001b[0m\n",
            "\u001b[?25hDownloading kt_legacy-1.0.5-py3-none-any.whl (9.6 kB)\n",
            "Installing collected packages: kt-legacy, keras-tuner\n",
            "Successfully installed keras-tuner-1.4.7 kt-legacy-1.0.5\n"
          ]
        }
      ]
    },
    {
      "cell_type": "code",
      "source": [
        "from tensorflow.keras.applications import MobileNetV2\n",
        "from tensorflow.keras.layers import GlobalAveragePooling2D, Dropout, Dense\n",
        "from tensorflow.keras.optimizers import Adam\n",
        "from keras_tuner import RandomSearch, HyperParameters\n",
        "\n",
        "# Definir tamaño de imagen y número de clases (ajusta estas variables según tu caso)\n",
        "IMG_SIZE_MOBILENET = (224, 224)\n",
        "NUM_CLASSES = 3\n",
        "\n",
        "# Función de construcción del modelo para la búsqueda de hiperparámetros\n",
        "def build_model(hp):\n",
        "    # Hiperparámetros que queremos optimizar\n",
        "    learning_rate = hp.Float('learning_rate', min_value=1e-5, max_value=1e-3, sampling='log')\n",
        "    dropout_rate = hp.Float('dropout_rate', min_value=0.1, max_value=0.5, step=0.1)\n",
        "\n",
        "    # Preprocesamiento y modelo base\n",
        "    preprocess_input = tf.keras.applications.mobilenet_v2.preprocess_input\n",
        "    base_model_mobilenet = MobileNetV2(weights='imagenet', include_top=False, input_shape=IMG_SIZE_MOBILENET + (3,))\n",
        "    base_model_mobilenet.trainable = False\n",
        "\n",
        "    # Construir el modelo\n",
        "    inputs = tf.keras.Input(shape=(224, 224, 3))\n",
        "    x = preprocess_input(inputs)\n",
        "    x = base_model_mobilenet(x, training=False)\n",
        "    x = GlobalAveragePooling2D()(x)\n",
        "    x = Dropout(dropout_rate)(x)\n",
        "    outputs = Dense(NUM_CLASSES, activation='softmax')(x)\n",
        "\n",
        "    # Crear el modelo\n",
        "    model = tf.keras.Model(inputs, outputs)\n",
        "\n",
        "    # Compilar el modelo con el optimizador y la tasa de aprendizaje seleccionada\n",
        "    model.compile(optimizer=Adam(learning_rate=learning_rate),\n",
        "                  loss='categorical_crossentropy',\n",
        "                  metrics=['accuracy'])\n",
        "\n",
        "    return model\n"
      ],
      "metadata": {
        "id": "ICnngMU76GrQ"
      },
      "execution_count": null,
      "outputs": []
    },
    {
      "cell_type": "code",
      "source": [
        "# Configuración del tuner\n",
        "tuner = RandomSearch(\n",
        "    build_model,\n",
        "    objective='val_accuracy',\n",
        "    max_trials=20,  # Número de combinaciones aleatorias a probar\n",
        "    executions_per_trial=1,  # Número de ejecuciones por cada configuración\n",
        "    directory='my_dir',  # Directorio para guardar resultados\n",
        "    project_name='mobileNetV2_hyperparameter_tuning'\n",
        ")"
      ],
      "metadata": {
        "id": "w6E6Wt4d61WQ"
      },
      "execution_count": null,
      "outputs": []
    },
    {
      "cell_type": "code",
      "source": [
        "# Realizar la búsqueda de hiperparámetros\n",
        "tuner.search(train_dataset_mobilenet, validation_data=val_dataset_mobilenet, epochs=10)\n",
        "\n",
        "# Obtener los mejores hiperparámetros\n",
        "best_hps = tuner.get_best_hyperparameters(num_trials=1)[0]\n",
        "print(f\"Mejor tasa de aprendizaje: {best_hps.get('learning_rate')}\")\n",
        "print(f\"Mejor tasa de dropout: {best_hps.get('dropout_rate')}\")\n",
        "\n",
        "# Entrenar el modelo con los mejores hiperparámetros encontrados\n",
        "model = tuner.hypermodel.build(best_hps)\n",
        "history = model.fit(train_dataset_mobilenet, validation_data=val_dataset_mobilenet, epochs=20)"
      ],
      "metadata": {
        "colab": {
          "base_uri": "https://localhost:8080/"
        },
        "id": "cSFOeJnG62kL",
        "outputId": "80cfcf1c-ff6c-4ca3-bef4-967e130bab89"
      },
      "execution_count": null,
      "outputs": [
        {
          "output_type": "stream",
          "name": "stdout",
          "text": [
            "Trial 20 Complete [00h 07m 05s]\n",
            "val_accuracy: 0.9038854837417603\n",
            "\n",
            "Best val_accuracy So Far: 0.9182004332542419\n",
            "Total elapsed time: 02h 22m 34s\n",
            "Mejor tasa de aprendizaje: 0.0003551669924416851\n",
            "Mejor tasa de dropout: 0.2\n",
            "Epoch 1/20\n",
            "\u001b[1m458/458\u001b[0m \u001b[32m━━━━━━━━━━━━━━━━━━━━\u001b[0m\u001b[37m\u001b[0m \u001b[1m48s\u001b[0m 89ms/step - accuracy: 0.7034 - loss: 0.6815 - val_accuracy: 0.8773 - val_loss: 0.3444\n",
            "Epoch 2/20\n",
            "\u001b[1m458/458\u001b[0m \u001b[32m━━━━━━━━━━━━━━━━━━━━\u001b[0m\u001b[37m\u001b[0m \u001b[1m37s\u001b[0m 81ms/step - accuracy: 0.8892 - loss: 0.2914 - val_accuracy: 0.9018 - val_loss: 0.2948\n",
            "Epoch 3/20\n",
            "\u001b[1m458/458\u001b[0m \u001b[32m━━━━━━━━━━━━━━━━━━━━\u001b[0m\u001b[37m\u001b[0m \u001b[1m41s\u001b[0m 81ms/step - accuracy: 0.9079 - loss: 0.2515 - val_accuracy: 0.8998 - val_loss: 0.2921\n",
            "Epoch 4/20\n",
            "\u001b[1m458/458\u001b[0m \u001b[32m━━━━━━━━━━━━━━━━━━━━\u001b[0m\u001b[37m\u001b[0m \u001b[1m41s\u001b[0m 81ms/step - accuracy: 0.9129 - loss: 0.2306 - val_accuracy: 0.9018 - val_loss: 0.2647\n",
            "Epoch 5/20\n",
            "\u001b[1m458/458\u001b[0m \u001b[32m━━━━━━━━━━━━━━━━━━━━\u001b[0m\u001b[37m\u001b[0m \u001b[1m39s\u001b[0m 77ms/step - accuracy: 0.9206 - loss: 0.2164 - val_accuracy: 0.9059 - val_loss: 0.2589\n",
            "Epoch 6/20\n",
            "\u001b[1m458/458\u001b[0m \u001b[32m━━━━━━━━━━━━━━━━━━━━\u001b[0m\u001b[37m\u001b[0m \u001b[1m37s\u001b[0m 80ms/step - accuracy: 0.9234 - loss: 0.2037 - val_accuracy: 0.8998 - val_loss: 0.2579\n",
            "Epoch 7/20\n",
            "\u001b[1m458/458\u001b[0m \u001b[32m━━━━━━━━━━━━━━━━━━━━\u001b[0m\u001b[37m\u001b[0m \u001b[1m42s\u001b[0m 82ms/step - accuracy: 0.9233 - loss: 0.1939 - val_accuracy: 0.9080 - val_loss: 0.2600\n",
            "Epoch 8/20\n",
            "\u001b[1m458/458\u001b[0m \u001b[32m━━━━━━━━━━━━━━━━━━━━\u001b[0m\u001b[37m\u001b[0m \u001b[1m35s\u001b[0m 77ms/step - accuracy: 0.9281 - loss: 0.1898 - val_accuracy: 0.9100 - val_loss: 0.2576\n",
            "Epoch 9/20\n",
            "\u001b[1m458/458\u001b[0m \u001b[32m━━━━━━━━━━━━━━━━━━━━\u001b[0m\u001b[37m\u001b[0m \u001b[1m43s\u001b[0m 82ms/step - accuracy: 0.9288 - loss: 0.1851 - val_accuracy: 0.8998 - val_loss: 0.2591\n",
            "Epoch 10/20\n",
            "\u001b[1m458/458\u001b[0m \u001b[32m━━━━━━━━━━━━━━━━━━━━\u001b[0m\u001b[37m\u001b[0m \u001b[1m41s\u001b[0m 81ms/step - accuracy: 0.9330 - loss: 0.1798 - val_accuracy: 0.9039 - val_loss: 0.2631\n",
            "Epoch 11/20\n",
            "\u001b[1m458/458\u001b[0m \u001b[32m━━━━━━━━━━━━━━━━━━━━\u001b[0m\u001b[37m\u001b[0m \u001b[1m37s\u001b[0m 81ms/step - accuracy: 0.9308 - loss: 0.1754 - val_accuracy: 0.9018 - val_loss: 0.2613\n",
            "Epoch 12/20\n",
            "\u001b[1m458/458\u001b[0m \u001b[32m━━━━━━━━━━━━━━━━━━━━\u001b[0m\u001b[37m\u001b[0m \u001b[1m39s\u001b[0m 78ms/step - accuracy: 0.9329 - loss: 0.1726 - val_accuracy: 0.8998 - val_loss: 0.2596\n",
            "Epoch 13/20\n",
            "\u001b[1m458/458\u001b[0m \u001b[32m━━━━━━━━━━━━━━━━━━━━\u001b[0m\u001b[37m\u001b[0m \u001b[1m34s\u001b[0m 75ms/step - accuracy: 0.9368 - loss: 0.1646 - val_accuracy: 0.8998 - val_loss: 0.2641\n",
            "Epoch 14/20\n",
            "\u001b[1m458/458\u001b[0m \u001b[32m━━━━━━━━━━━━━━━━━━━━\u001b[0m\u001b[37m\u001b[0m \u001b[1m44s\u001b[0m 82ms/step - accuracy: 0.9337 - loss: 0.1681 - val_accuracy: 0.9080 - val_loss: 0.2702\n",
            "Epoch 15/20\n",
            "\u001b[1m458/458\u001b[0m \u001b[32m━━━━━━━━━━━━━━━━━━━━\u001b[0m\u001b[37m\u001b[0m \u001b[1m37s\u001b[0m 81ms/step - accuracy: 0.9369 - loss: 0.1603 - val_accuracy: 0.9100 - val_loss: 0.2659\n",
            "Epoch 16/20\n",
            "\u001b[1m458/458\u001b[0m \u001b[32m━━━━━━━━━━━━━━━━━━━━\u001b[0m\u001b[37m\u001b[0m \u001b[1m37s\u001b[0m 80ms/step - accuracy: 0.9402 - loss: 0.1578 - val_accuracy: 0.9039 - val_loss: 0.2679\n",
            "Epoch 17/20\n",
            "\u001b[1m458/458\u001b[0m \u001b[32m━━━━━━━━━━━━━━━━━━━━\u001b[0m\u001b[37m\u001b[0m \u001b[1m39s\u001b[0m 77ms/step - accuracy: 0.9364 - loss: 0.1622 - val_accuracy: 0.9059 - val_loss: 0.2729\n",
            "Epoch 18/20\n",
            "\u001b[1m458/458\u001b[0m \u001b[32m━━━━━━━━━━━━━━━━━━━━\u001b[0m\u001b[37m\u001b[0m \u001b[1m36s\u001b[0m 78ms/step - accuracy: 0.9360 - loss: 0.1662 - val_accuracy: 0.9039 - val_loss: 0.2723\n",
            "Epoch 19/20\n",
            "\u001b[1m458/458\u001b[0m \u001b[32m━━━━━━━━━━━━━━━━━━━━\u001b[0m\u001b[37m\u001b[0m \u001b[1m40s\u001b[0m 77ms/step - accuracy: 0.9379 - loss: 0.1590 - val_accuracy: 0.9100 - val_loss: 0.2728\n",
            "Epoch 20/20\n",
            "\u001b[1m458/458\u001b[0m \u001b[32m━━━━━━━━━━━━━━━━━━━━\u001b[0m\u001b[37m\u001b[0m \u001b[1m43s\u001b[0m 82ms/step - accuracy: 0.9390 - loss: 0.1554 - val_accuracy: 0.8998 - val_loss: 0.2713\n"
          ]
        }
      ]
    },
    {
      "cell_type": "code",
      "source": [
        "# Definir función para graficar métricas de etapas de entrenamiento\n",
        "\n",
        "def plot_training_history(history, afinacion = False):\n",
        "    # Extraer los datos del historial\n",
        "    acc = history.history['accuracy']\n",
        "    val_acc = history.history['val_accuracy']\n",
        "    loss = history.history['loss']\n",
        "    val_loss = history.history['val_loss']\n",
        "\n",
        "    # Crear una figura para las gráficas\n",
        "    epochs_range = range(len(acc))\n",
        "\n",
        "    plt.figure(figsize=(12, 6))\n",
        "\n",
        "    # Graficar precisión\n",
        "    plt.subplot(1, 2, 1)\n",
        "    plt.plot(epochs_range, acc, label='Precisión de Entrenamiento')\n",
        "    plt.plot(epochs_range, val_acc, label='Precisión de Validación')\n",
        "    plt.legend(loc='lower right')\n",
        "    plt.title('Precisión en Entrenamiento y Validación')\n",
        "    if afinacion:\n",
        "      plt.plot([EPOCAS_ENTRENAMIENTO - 1, EPOCAS_ENTRENAMIENTO - 1],\n",
        "      plt.ylim(), label='Inicio afinacion')\n",
        "\n",
        "    # Graficar pérdida\n",
        "    plt.subplot(1, 2, 2)\n",
        "    plt.plot(epochs_range, loss, label='Pérdida de Entrenamiento')\n",
        "    plt.plot(epochs_range, val_loss, label='Pérdida de Validación')\n",
        "    plt.legend(loc='upper right')\n",
        "    plt.title('Pérdida en Entrenamiento y Validación')\n",
        "\n",
        "    if afinacion:\n",
        "      plt.plot([EPOCAS_ENTRENAMIENTO - 1, EPOCAS_ENTRENAMIENTO - 1],\n",
        "      plt.ylim(), label='Inicio afinacion')\n",
        "\n",
        "    # Mostrar las gráficas\n",
        "    plt.show()"
      ],
      "metadata": {
        "id": "EDKhyujyhFSZ"
      },
      "execution_count": null,
      "outputs": []
    },
    {
      "cell_type": "code",
      "source": [
        "# Graficar histórico de mobileNet\n",
        "plot_training_history(history_mobilenet)"
      ],
      "metadata": {
        "id": "LTEqEFdqhZVd",
        "colab": {
          "base_uri": "https://localhost:8080/",
          "height": 545
        },
        "outputId": "958ef61f-de15-4679-ca1d-2cbfbbd8eaa5"
      },
      "execution_count": null,
      "outputs": [
        {
          "output_type": "display_data",
          "data": {
            "text/plain": [
              "<Figure size 1200x600 with 2 Axes>"
            ],
            "image/png": "[encoded data removed]"
          },
          "metadata": {}
        }
      ]
    },
    {
      "cell_type": "code",
      "source": [
        "#Cantidad de capas\n",
        "print(\"Cantidad de capas \", len(base_model_mobilenet.layers))\n",
        "\n",
        "fine_tune_at = (int) (len(base_model_mobilenet.layers)* 1/3)\n",
        "print(\"Descongelar 1/3 de las capas desde el final, se descongelaran: \", fine_tune_at, \" capas\")\n",
        "\n",
        "base_model_mobilenet.trainable = True\n",
        "\n",
        "# Freeze all the layers before the `fine_tune_at` layer\n",
        "for layer in base_model_mobilenet.layers[:fine_tune_at]:\n",
        "  layer.trainable = False"
      ],
      "metadata": {
        "id": "FpdCu1DKhcVk",
        "colab": {
          "base_uri": "https://localhost:8080/"
        },
        "outputId": "9578abd7-16cd-43c8-84cd-1ac1d3ab17a0"
      },
      "execution_count": null,
      "outputs": [
        {
          "output_type": "stream",
          "name": "stdout",
          "text": [
            "Cantidad de capas  154\n",
            "Descongelar 1/3 de las capas desde el final, se descongelaran:  102  capas\n"
          ]
        }
      ]
    },
    {
      "cell_type": "code",
      "source": [
        "model_mobilenet.compile(optimizer = tf.keras.optimizers.RMSprop(learning_rate=base_learning_rate/10),\n",
        "                        loss='categorical_crossentropy',\n",
        "                        metrics=['accuracy'])\n",
        "\n",
        "epocas_final = len(history_mobilenet.epoch) + EPOCAS_AFINACION\n",
        "\n",
        "history_mobilenet_afinado = model_mobilenet.fit(train_dataset_mobilenet,\n",
        "                                                initial_epoch= len(history_mobilenet.epoch),\n",
        "                                                validation_data= val_dataset_mobilenet,\n",
        "                                                epochs= epocas_final)"
      ],
      "metadata": {
        "id": "bV-kmDJzhiEi",
        "colab": {
          "base_uri": "https://localhost:8080/"
        },
        "outputId": "2aab00b0-12d2-4f29-ce42-7e3355f8aba5"
      },
      "execution_count": null,
      "outputs": [
        {
          "output_type": "stream",
          "name": "stdout",
          "text": [
            "Epoch 11/20\n",
            "\u001b[1m458/458\u001b[0m \u001b[32m━━━━━━━━━━━━━━━━━━━━\u001b[0m\u001b[37m\u001b[0m \u001b[1m64s\u001b[0m 102ms/step - accuracy: 0.8265 - loss: 0.4150 - val_accuracy: 0.8773 - val_loss: 0.3193\n",
            "Epoch 12/20\n",
            "\u001b[1m458/458\u001b[0m \u001b[32m━━━━━━━━━━━━━━━━━━━━\u001b[0m\u001b[37m\u001b[0m \u001b[1m35s\u001b[0m 76ms/step - accuracy: 0.9107 - loss: 0.2364 - val_accuracy: 0.8957 - val_loss: 0.2880\n",
            "Epoch 13/20\n",
            "\u001b[1m458/458\u001b[0m \u001b[32m━━━━━━━━━━━━━━━━━━━━\u001b[0m\u001b[37m\u001b[0m \u001b[1m43s\u001b[0m 82ms/step - accuracy: 0.9261 - loss: 0.1910 - val_accuracy: 0.9080 - val_loss: 0.2572\n",
            "Epoch 14/20\n",
            "\u001b[1m458/458\u001b[0m \u001b[32m━━━━━━━━━━━━━━━━━━━━\u001b[0m\u001b[37m\u001b[0m \u001b[1m33s\u001b[0m 73ms/step - accuracy: 0.9437 - loss: 0.1560 - val_accuracy: 0.9182 - val_loss: 0.2326\n",
            "Epoch 15/20\n",
            "\u001b[1m458/458\u001b[0m \u001b[32m━━━━━━━━━━━━━━━━━━━━\u001b[0m\u001b[37m\u001b[0m \u001b[1m37s\u001b[0m 81ms/step - accuracy: 0.9512 - loss: 0.1349 - val_accuracy: 0.9223 - val_loss: 0.2131\n",
            "Epoch 16/20\n",
            "\u001b[1m458/458\u001b[0m \u001b[32m━━━━━━━━━━━━━━━━━━━━\u001b[0m\u001b[37m\u001b[0m \u001b[1m34s\u001b[0m 74ms/step - accuracy: 0.9566 - loss: 0.1229 - val_accuracy: 0.9223 - val_loss: 0.2009\n",
            "Epoch 17/20\n",
            "\u001b[1m458/458\u001b[0m \u001b[32m━━━━━━━━━━━━━━━━━━━━\u001b[0m\u001b[37m\u001b[0m \u001b[1m37s\u001b[0m 81ms/step - accuracy: 0.9637 - loss: 0.1002 - val_accuracy: 0.9264 - val_loss: 0.1982\n",
            "Epoch 18/20\n",
            "\u001b[1m458/458\u001b[0m \u001b[32m━━━━━━━━━━━━━━━━━━━━\u001b[0m\u001b[37m\u001b[0m \u001b[1m39s\u001b[0m 76ms/step - accuracy: 0.9694 - loss: 0.0874 - val_accuracy: 0.9182 - val_loss: 0.2064\n",
            "Epoch 19/20\n",
            "\u001b[1m458/458\u001b[0m \u001b[32m━━━━━━━━━━━━━━━━━━━━\u001b[0m\u001b[37m\u001b[0m \u001b[1m43s\u001b[0m 81ms/step - accuracy: 0.9704 - loss: 0.0806 - val_accuracy: 0.9202 - val_loss: 0.2057\n",
            "Epoch 20/20\n",
            "\u001b[1m458/458\u001b[0m \u001b[32m━━━━━━━━━━━━━━━━━━━━\u001b[0m\u001b[37m\u001b[0m \u001b[1m38s\u001b[0m 82ms/step - accuracy: 0.9759 - loss: 0.0687 - val_accuracy: 0.9223 - val_loss: 0.2066\n"
          ]
        }
      ]
    },
    {
      "cell_type": "code",
      "source": [
        "# Compilar resultados de afinación\n",
        "history_mobilenet.history['accuracy'] = history_mobilenet.history['accuracy'] + history_mobilenet_afinado.history['accuracy']\n",
        "history_mobilenet.history['val_accuracy'] = history_mobilenet.history['val_accuracy'] + history_mobilenet_afinado.history['val_accuracy']\n",
        "history_mobilenet.history['loss'] = history_mobilenet.history['loss'] + history_mobilenet_afinado.history['loss']\n",
        "history_mobilenet.history['val_loss'] = history_mobilenet.history['val_loss'] + history_mobilenet_afinado.history['val_loss']"
      ],
      "metadata": {
        "id": "FyffB8yGhm6a"
      },
      "execution_count": null,
      "outputs": []
    },
    {
      "cell_type": "code",
      "source": [
        "# Graficar histórico despues del entrenamiento afinado\n",
        "plot_training_history(history_mobilenet, True)"
      ],
      "metadata": {
        "id": "g_Y5syZ0homB",
        "colab": {
          "base_uri": "https://localhost:8080/",
          "height": 545
        },
        "outputId": "fcf83788-e520-4db8-b07e-95a4e63b2e8a"
      },
      "execution_count": null,
      "outputs": [
        {
          "output_type": "display_data",
          "data": {
            "text/plain": [
              "<Figure size 1200x600 with 2 Axes>"
            ],
            "image/png": "[encoded data removed]"
          },
          "metadata": {}
        }
      ]
    },
    {
      "cell_type": "code",
      "source": [
        "# Evaluar el modelo\n",
        "test_loss, val_acc_mobilenet = model_mobilenet.evaluate(val_dataset_mobilenet)\n",
        "print(f\"Accuracy: {val_acc_mobilenet}\")"
      ],
      "metadata": {
        "colab": {
          "base_uri": "https://localhost:8080/"
        },
        "id": "q_Wi_FNj17Um",
        "outputId": "cc040f06-8562-4d7a-eeee-0ff70ea9bb1a"
      },
      "execution_count": null,
      "outputs": [
        {
          "output_type": "stream",
          "name": "stdout",
          "text": [
            "\u001b[1m16/16\u001b[0m \u001b[32m━━━━━━━━━━━━━━━━━━━━\u001b[0m\u001b[37m\u001b[0m \u001b[1m8s\u001b[0m 398ms/step - accuracy: 0.9030 - loss: 0.3044\n",
            "Accuracy: 0.8977504968643188\n"
          ]
        }
      ]
    },
    {
      "cell_type": "code",
      "source": [
        "# Evaluar el modelo\n",
        "test_loss, test_acc_mobilenet = model_mobilenet.evaluate(test_dataset_mobilenet)\n",
        "print(f\"Accuracy: {test_acc_mobilenet}\")\n",
        "# Obtener predicciones\n",
        "y_pred_mobilenet = model_mobilenet.predict(test_dataset_mobilenet)\n",
        "y_pred_mobilenet_classes = np.argmax(y_pred_mobilenet, axis=1)\n",
        "y_true_mobilenet = np.concatenate([y.numpy() for x, y in test_dataset_mobilenet], axis=0)\n",
        "y_true_mobilenet_classes = np.argmax(y_true_mobilenet, axis=1)\n",
        "\n",
        "# Calcular F1-score, precisión y recall\n",
        "f1 = f1_score(y_true_mobilenet_classes, y_pred_mobilenet_classes, average='weighted')\n",
        "precision = precision_score(y_true_mobilenet_classes, y_pred_mobilenet_classes, average='weighted')\n",
        "recall = recall_score(y_true_mobilenet_classes, y_pred_mobilenet_classes, average='weighted')\n",
        "\n",
        "print(f\"F1 Score: {f1}\")\n",
        "print(f\"Precision: {precision}\")\n",
        "print(f\"Recall: {recall}\")"
      ],
      "metadata": {
        "id": "7HLDhRpDhrly",
        "colab": {
          "base_uri": "https://localhost:8080/"
        },
        "outputId": "3af89f84-17af-4516-a9a0-d1575585441e"
      },
      "execution_count": null,
      "outputs": [
        {
          "output_type": "stream",
          "name": "stdout",
          "text": [
            "\u001b[1m19/19\u001b[0m \u001b[32m━━━━━━━━━━━━━━━━━━━━\u001b[0m\u001b[37m\u001b[0m \u001b[1m3s\u001b[0m 150ms/step - accuracy: 0.7818 - loss: 0.5249\n",
            "Accuracy: 0.7852233648300171\n",
            "\u001b[1m19/19\u001b[0m \u001b[32m━━━━━━━━━━━━━━━━━━━━\u001b[0m\u001b[37m\u001b[0m \u001b[1m2s\u001b[0m 101ms/step\n",
            "F1 Score: 0.7836898164099901\n",
            "Precision: 0.7883121079366211\n",
            "Recall: 0.7852233676975945\n"
          ]
        }
      ]
    },
    {
      "cell_type": "code",
      "source": [
        "y_pred_mobilenet"
      ],
      "metadata": {
        "colab": {
          "base_uri": "https://localhost:8080/"
        },
        "id": "YRyMNEgoDvgp",
        "outputId": "f61d9ed4-f21e-4a8c-e4ca-b040930eb6ca"
      },
      "execution_count": null,
      "outputs": [
        {
          "output_type": "execute_result",
          "data": {
            "text/plain": [
              "array([[0.8946663 , 0.07872374, 0.02660994],\n",
              "       [0.90930355, 0.01054144, 0.08015506],\n",
              "       [0.5821831 , 0.02704506, 0.39077178],\n",
              "       ...,\n",
              "       [0.64168614, 0.00809812, 0.35021573],\n",
              "       [0.3793382 , 0.04668042, 0.57398134],\n",
              "       [0.18248439, 0.15507293, 0.6624426 ]], dtype=float32)"
            ]
          },
          "metadata": {},
          "execution_count": 28
        }
      ]
    },
    {
      "cell_type": "code",
      "source": [
        "# Calcular la matriz de confusión\n",
        "class_names = train_dataset_mobilenet.class_names\n",
        "cm = confusion_matrix(y_true_mobilenet_classes, y_pred_mobilenet_classes)\n",
        "\n",
        "# Visualizar la matriz de confusión\n",
        "plt.figure(figsize=(8, 6))\n",
        "sns.heatmap(cm, annot=True, fmt='d', cmap='Blues', xticklabels=class_names,\n",
        "            yticklabels=class_names)\n",
        "plt.xlabel('Predicted')\n",
        "plt.ylabel('True')\n",
        "plt.title('Matriz de Confusión para MobileNet')\n",
        "plt.show()"
      ],
      "metadata": {
        "id": "slNSCb5Shvno",
        "colab": {
          "base_uri": "https://localhost:8080/",
          "height": 565
        },
        "outputId": "e598a67a-14ad-4e33-da13-2333c1486e45"
      },
      "execution_count": null,
      "outputs": [
        {
          "output_type": "display_data",
          "data": {
            "text/plain": [
              "<Figure size 800x600 with 2 Axes>"
            ],
            "image/png": "[encoded data removed]"
          },
          "metadata": {}
        }
      ]
    },
    {
      "cell_type": "code",
      "source": [
        "model_mobilenet.save('modelo_mobilenet.keras')"
      ],
      "metadata": {
        "id": "cSZXjq2k3pUL"
      },
      "execution_count": null,
      "outputs": []
    },
    {
      "cell_type": "code",
      "source": [
        "from tensorflow import keras\n",
        "\n",
        "# Cargar el modelo que has entrenado y guardado previamente\n",
        "modelCel = keras.models.load_model('modelo_mobilenet.keras')"
      ],
      "metadata": {
        "id": "GXdLGmhI5BHP"
      },
      "execution_count": null,
      "outputs": []
    },
    {
      "cell_type": "code",
      "source": [
        "# Crear el convertidor de TensorFlow Lite\n",
        "converter = tf.lite.TFLiteConverter.from_keras_model(modelCel)\n",
        "\n",
        "# Convertir el modelo\n",
        "tflite_model = converter.convert()"
      ],
      "metadata": {
        "colab": {
          "base_uri": "https://localhost:8080/"
        },
        "id": "vmT6GBCm3n-R",
        "outputId": "3b3a3524-3f3a-4d37-8828-5a8c9c346326"
      },
      "execution_count": null,
      "outputs": [
        {
          "output_type": "stream",
          "name": "stdout",
          "text": [
            "Saved artifact at '/tmp/tmpvb5g4ad6'. The following endpoints are available:\n",
            "\n",
            "* Endpoint 'serve'\n",
            "  args_0 (POSITIONAL_ONLY): TensorSpec(shape=(None, 224, 224, 3), dtype=tf.float32, name='input_layer_1')\n",
            "Output Type:\n",
            "  TensorSpec(shape=(None, 3), dtype=tf.float32, name=None)\n",
            "Captures:\n",
            "  136269040766816: TensorSpec(shape=(), dtype=tf.resource, name=None)\n",
            "  136269040775792: TensorSpec(shape=(), dtype=tf.resource, name=None)\n",
            "  136269040774912: TensorSpec(shape=(), dtype=tf.resource, name=None)\n",
            "  136269040770160: TensorSpec(shape=(), dtype=tf.resource, name=None)\n",
            "  136269040772624: TensorSpec(shape=(), dtype=tf.resource, name=None)\n",
            "  136269041239664: TensorSpec(shape=(), dtype=tf.resource, name=None)\n",
            "  136269041240192: TensorSpec(shape=(), dtype=tf.resource, name=None)\n",
            "  136269041244416: TensorSpec(shape=(), dtype=tf.resource, name=None)\n",
            "  136269041239840: TensorSpec(shape=(), dtype=tf.resource, name=None)\n",
            "  136269041238608: TensorSpec(shape=(), dtype=tf.resource, name=None)\n",
            "  136269041246176: TensorSpec(shape=(), dtype=tf.resource, name=None)\n",
            "  136269041245472: TensorSpec(shape=(), dtype=tf.resource, name=None)\n",
            "  136269041250576: TensorSpec(shape=(), dtype=tf.resource, name=None)\n",
            "  136269041246704: TensorSpec(shape=(), dtype=tf.resource, name=None)\n",
            "  136269041247584: TensorSpec(shape=(), dtype=tf.resource, name=None)\n",
            "  136269041251632: TensorSpec(shape=(), dtype=tf.resource, name=None)\n",
            "  136269041251808: TensorSpec(shape=(), dtype=tf.resource, name=None)\n",
            "  136269041371440: TensorSpec(shape=(), dtype=tf.resource, name=None)\n",
            "  136269041253920: TensorSpec(shape=(), dtype=tf.resource, name=None)\n",
            "  136269041252512: TensorSpec(shape=(), dtype=tf.resource, name=None)\n",
            "  136269041374256: TensorSpec(shape=(), dtype=tf.resource, name=None)\n",
            "  136269041373200: TensorSpec(shape=(), dtype=tf.resource, name=None)\n",
            "  136269041378656: TensorSpec(shape=(), dtype=tf.resource, name=None)\n",
            "  136269041374784: TensorSpec(shape=(), dtype=tf.resource, name=None)\n",
            "  136269041375664: TensorSpec(shape=(), dtype=tf.resource, name=None)\n",
            "  136269041380768: TensorSpec(shape=(), dtype=tf.resource, name=None)\n",
            "  136269041380064: TensorSpec(shape=(), dtype=tf.resource, name=None)\n",
            "  136269041385168: TensorSpec(shape=(), dtype=tf.resource, name=None)\n",
            "  136269041381296: TensorSpec(shape=(), dtype=tf.resource, name=None)\n",
            "  136269041382176: TensorSpec(shape=(), dtype=tf.resource, name=None)\n",
            "  136269041436800: TensorSpec(shape=(), dtype=tf.resource, name=None)\n",
            "  136269041436272: TensorSpec(shape=(), dtype=tf.resource, name=None)\n",
            "  136269041438736: TensorSpec(shape=(), dtype=tf.resource, name=None)\n",
            "  136269041436096: TensorSpec(shape=(), dtype=tf.resource, name=None)\n",
            "  136269041436976: TensorSpec(shape=(), dtype=tf.resource, name=None)\n",
            "  136269041442080: TensorSpec(shape=(), dtype=tf.resource, name=None)\n",
            "  136269041441200: TensorSpec(shape=(), dtype=tf.resource, name=None)\n",
            "  136269041446480: TensorSpec(shape=(), dtype=tf.resource, name=None)\n",
            "  136269041442608: TensorSpec(shape=(), dtype=tf.resource, name=None)\n",
            "  136269041443488: TensorSpec(shape=(), dtype=tf.resource, name=None)\n",
            "  136269041448592: TensorSpec(shape=(), dtype=tf.resource, name=None)\n",
            "  136269040683136: TensorSpec(shape=(), dtype=tf.resource, name=None)\n",
            "  136269040683664: TensorSpec(shape=(), dtype=tf.resource, name=None)\n",
            "  136269041450704: TensorSpec(shape=(), dtype=tf.resource, name=None)\n",
            "  136269041449472: TensorSpec(shape=(), dtype=tf.resource, name=None)\n",
            "  136269040685424: TensorSpec(shape=(), dtype=tf.resource, name=None)\n",
            "  136269040684720: TensorSpec(shape=(), dtype=tf.resource, name=None)\n",
            "  136269040689824: TensorSpec(shape=(), dtype=tf.resource, name=None)\n",
            "  136269040685952: TensorSpec(shape=(), dtype=tf.resource, name=None)\n",
            "  136269040686832: TensorSpec(shape=(), dtype=tf.resource, name=None)\n",
            "  136269040693168: TensorSpec(shape=(), dtype=tf.resource, name=None)\n",
            "  136269040692112: TensorSpec(shape=(), dtype=tf.resource, name=None)\n",
            "  136269040687008: TensorSpec(shape=(), dtype=tf.resource, name=None)\n",
            "  136269040693696: TensorSpec(shape=(), dtype=tf.resource, name=None)\n",
            "  136269040694576: TensorSpec(shape=(), dtype=tf.resource, name=None)\n",
            "  136269041175008: TensorSpec(shape=(), dtype=tf.resource, name=None)\n",
            "  136269041174304: TensorSpec(shape=(), dtype=tf.resource, name=None)\n",
            "  136269041178176: TensorSpec(shape=(), dtype=tf.resource, name=None)\n",
            "  136269041175536: TensorSpec(shape=(), dtype=tf.resource, name=None)\n",
            "  136269041176416: TensorSpec(shape=(), dtype=tf.resource, name=None)\n",
            "  136269041180464: TensorSpec(shape=(), dtype=tf.resource, name=None)\n",
            "  136269041179056: TensorSpec(shape=(), dtype=tf.resource, name=None)\n",
            "  136269041184864: TensorSpec(shape=(), dtype=tf.resource, name=None)\n",
            "  136269041180992: TensorSpec(shape=(), dtype=tf.resource, name=None)\n",
            "  136269041181872: TensorSpec(shape=(), dtype=tf.resource, name=None)\n",
            "  136269041186976: TensorSpec(shape=(), dtype=tf.resource, name=None)\n",
            "  136269040880272: TensorSpec(shape=(), dtype=tf.resource, name=None)\n",
            "  136269040880800: TensorSpec(shape=(), dtype=tf.resource, name=None)\n",
            "  136269041188384: TensorSpec(shape=(), dtype=tf.resource, name=None)\n",
            "  136269040877808: TensorSpec(shape=(), dtype=tf.resource, name=None)\n",
            "  136269040882384: TensorSpec(shape=(), dtype=tf.resource, name=None)\n",
            "  136269040881680: TensorSpec(shape=(), dtype=tf.resource, name=None)\n",
            "  136269040886784: TensorSpec(shape=(), dtype=tf.resource, name=None)\n",
            "  136269040882912: TensorSpec(shape=(), dtype=tf.resource, name=None)\n",
            "  136269040883792: TensorSpec(shape=(), dtype=tf.resource, name=None)\n",
            "  136269040889072: TensorSpec(shape=(), dtype=tf.resource, name=None)\n",
            "  136269040888368: TensorSpec(shape=(), dtype=tf.resource, name=None)\n",
            "  136269040893472: TensorSpec(shape=(), dtype=tf.resource, name=None)\n",
            "  136269040889600: TensorSpec(shape=(), dtype=tf.resource, name=None)\n",
            "  136269040890480: TensorSpec(shape=(), dtype=tf.resource, name=None)\n",
            "  136269040995312: TensorSpec(shape=(), dtype=tf.resource, name=None)\n",
            "  136269040994080: TensorSpec(shape=(), dtype=tf.resource, name=None)\n",
            "  136269040998832: TensorSpec(shape=(), dtype=tf.resource, name=None)\n",
            "  136269040993024: TensorSpec(shape=(), dtype=tf.resource, name=None)\n",
            "  136269040996896: TensorSpec(shape=(), dtype=tf.resource, name=None)\n",
            "  136269040999712: TensorSpec(shape=(), dtype=tf.resource, name=None)\n",
            "  136269040997776: TensorSpec(shape=(), dtype=tf.resource, name=None)\n",
            "  136269041004112: TensorSpec(shape=(), dtype=tf.resource, name=None)\n",
            "  136269041003056: TensorSpec(shape=(), dtype=tf.resource, name=None)\n",
            "  136269041001648: TensorSpec(shape=(), dtype=tf.resource, name=None)\n",
            "  136269041006224: TensorSpec(shape=(), dtype=tf.resource, name=None)\n",
            "  136269040258208: TensorSpec(shape=(), dtype=tf.resource, name=None)\n",
            "  136269040258736: TensorSpec(shape=(), dtype=tf.resource, name=None)\n",
            "  136269040257328: TensorSpec(shape=(), dtype=tf.resource, name=None)\n",
            "  136269040255568: TensorSpec(shape=(), dtype=tf.resource, name=None)\n",
            "  136269040261552: TensorSpec(shape=(), dtype=tf.resource, name=None)\n",
            "  136269040260496: TensorSpec(shape=(), dtype=tf.resource, name=None)\n",
            "  136269040265952: TensorSpec(shape=(), dtype=tf.resource, name=None)\n",
            "  136269040262080: TensorSpec(shape=(), dtype=tf.resource, name=None)\n",
            "  136269040262960: TensorSpec(shape=(), dtype=tf.resource, name=None)\n",
            "  136269040268064: TensorSpec(shape=(), dtype=tf.resource, name=None)\n",
            "  136269040270528: TensorSpec(shape=(), dtype=tf.resource, name=None)\n",
            "  136269039813904: TensorSpec(shape=(), dtype=tf.resource, name=None)\n",
            "  136269040268944: TensorSpec(shape=(), dtype=tf.resource, name=None)\n",
            "  136269040268592: TensorSpec(shape=(), dtype=tf.resource, name=None)\n",
            "  136269039814960: TensorSpec(shape=(), dtype=tf.resource, name=None)\n",
            "  136269039814432: TensorSpec(shape=(), dtype=tf.resource, name=None)\n",
            "  136269039818128: TensorSpec(shape=(), dtype=tf.resource, name=None)\n",
            "  136269039815488: TensorSpec(shape=(), dtype=tf.resource, name=None)\n",
            "  136269039816368: TensorSpec(shape=(), dtype=tf.resource, name=None)\n",
            "  136269039821472: TensorSpec(shape=(), dtype=tf.resource, name=None)\n",
            "  136269039820592: TensorSpec(shape=(), dtype=tf.resource, name=None)\n",
            "  136269039825872: TensorSpec(shape=(), dtype=tf.resource, name=None)\n",
            "  136269039822000: TensorSpec(shape=(), dtype=tf.resource, name=None)\n",
            "  136269039822880: TensorSpec(shape=(), dtype=tf.resource, name=None)\n",
            "  136269039827456: TensorSpec(shape=(), dtype=tf.resource, name=None)\n",
            "  136269039896352: TensorSpec(shape=(), dtype=tf.resource, name=None)\n",
            "  136269039894768: TensorSpec(shape=(), dtype=tf.resource, name=None)\n",
            "  136269039894944: TensorSpec(shape=(), dtype=tf.resource, name=None)\n",
            "  136269039895120: TensorSpec(shape=(), dtype=tf.resource, name=None)\n",
            "  136269039899168: TensorSpec(shape=(), dtype=tf.resource, name=None)\n",
            "  136269039900224: TensorSpec(shape=(), dtype=tf.resource, name=None)\n",
            "  136269039904272: TensorSpec(shape=(), dtype=tf.resource, name=None)\n",
            "  136269039901808: TensorSpec(shape=(), dtype=tf.resource, name=None)\n",
            "  136269039901456: TensorSpec(shape=(), dtype=tf.resource, name=None)\n",
            "  136269039907792: TensorSpec(shape=(), dtype=tf.resource, name=None)\n",
            "  136269039905680: TensorSpec(shape=(), dtype=tf.resource, name=None)\n",
            "  136269039903392: TensorSpec(shape=(), dtype=tf.resource, name=None)\n",
            "  136269039906736: TensorSpec(shape=(), dtype=tf.resource, name=None)\n",
            "  136269039909904: TensorSpec(shape=(), dtype=tf.resource, name=None)\n",
            "  136269040011040: TensorSpec(shape=(), dtype=tf.resource, name=None)\n",
            "  136269040011392: TensorSpec(shape=(), dtype=tf.resource, name=None)\n",
            "  136269040016496: TensorSpec(shape=(), dtype=tf.resource, name=None)\n",
            "  136269040012096: TensorSpec(shape=(), dtype=tf.resource, name=None)\n",
            "  136269040012800: TensorSpec(shape=(), dtype=tf.resource, name=None)\n",
            "  136269040020016: TensorSpec(shape=(), dtype=tf.resource, name=None)\n",
            "  136269040017376: TensorSpec(shape=(), dtype=tf.resource, name=None)\n",
            "  136269040022480: TensorSpec(shape=(), dtype=tf.resource, name=None)\n",
            "  136269040019664: TensorSpec(shape=(), dtype=tf.resource, name=None)\n",
            "  136269040019136: TensorSpec(shape=(), dtype=tf.resource, name=None)\n",
            "  136269040023888: TensorSpec(shape=(), dtype=tf.resource, name=None)\n",
            "  136269040157616: TensorSpec(shape=(), dtype=tf.resource, name=None)\n",
            "  136269040159024: TensorSpec(shape=(), dtype=tf.resource, name=None)\n",
            "  136269040157264: TensorSpec(shape=(), dtype=tf.resource, name=None)\n",
            "  136269040159376: TensorSpec(shape=(), dtype=tf.resource, name=None)\n",
            "  136269040163424: TensorSpec(shape=(), dtype=tf.resource, name=None)\n",
            "  136269040163776: TensorSpec(shape=(), dtype=tf.resource, name=None)\n",
            "  136269040168176: TensorSpec(shape=(), dtype=tf.resource, name=None)\n",
            "  136269040162896: TensorSpec(shape=(), dtype=tf.resource, name=None)\n",
            "  136269040164128: TensorSpec(shape=(), dtype=tf.resource, name=None)\n",
            "  136269040169408: TensorSpec(shape=(), dtype=tf.resource, name=None)\n",
            "  136269040169584: TensorSpec(shape=(), dtype=tf.resource, name=None)\n",
            "  136269040172400: TensorSpec(shape=(), dtype=tf.resource, name=None)\n",
            "  136269040170288: TensorSpec(shape=(), dtype=tf.resource, name=None)\n",
            "  136269040172224: TensorSpec(shape=(), dtype=tf.resource, name=None)\n",
            "  136269039652000: TensorSpec(shape=(), dtype=tf.resource, name=None)\n",
            "  136269039651120: TensorSpec(shape=(), dtype=tf.resource, name=None)\n",
            "  136269039655168: TensorSpec(shape=(), dtype=tf.resource, name=None)\n",
            "  136269039652528: TensorSpec(shape=(), dtype=tf.resource, name=None)\n",
            "  136269039653408: TensorSpec(shape=(), dtype=tf.resource, name=None)\n",
            "  136269039658512: TensorSpec(shape=(), dtype=tf.resource, name=None)\n",
            "  136269039657808: TensorSpec(shape=(), dtype=tf.resource, name=None)\n",
            "  136269039662912: TensorSpec(shape=(), dtype=tf.resource, name=None)\n",
            "  136269039659040: TensorSpec(shape=(), dtype=tf.resource, name=None)\n",
            "  136269039659920: TensorSpec(shape=(), dtype=tf.resource, name=None)\n",
            "  136269039662560: TensorSpec(shape=(), dtype=tf.resource, name=None)\n",
            "  136269039535200: TensorSpec(shape=(), dtype=tf.resource, name=None)\n",
            "  136269039534848: TensorSpec(shape=(), dtype=tf.resource, name=None)\n",
            "  136269039534144: TensorSpec(shape=(), dtype=tf.resource, name=None)\n",
            "  136269039534496: TensorSpec(shape=(), dtype=tf.resource, name=None)\n",
            "  136269039539600: TensorSpec(shape=(), dtype=tf.resource, name=None)\n",
            "  136269039538720: TensorSpec(shape=(), dtype=tf.resource, name=None)\n",
            "  136269039544000: TensorSpec(shape=(), dtype=tf.resource, name=None)\n",
            "  136269039540128: TensorSpec(shape=(), dtype=tf.resource, name=None)\n",
            "  136269039541008: TensorSpec(shape=(), dtype=tf.resource, name=None)\n",
            "  136269039546112: TensorSpec(shape=(), dtype=tf.resource, name=None)\n",
            "  136269039545408: TensorSpec(shape=(), dtype=tf.resource, name=None)\n",
            "  136269039541184: TensorSpec(shape=(), dtype=tf.resource, name=None)\n",
            "  136269039546640: TensorSpec(shape=(), dtype=tf.resource, name=None)\n",
            "  136269039547520: TensorSpec(shape=(), dtype=tf.resource, name=None)\n",
            "  136269039667680: TensorSpec(shape=(), dtype=tf.resource, name=None)\n",
            "  136269039666976: TensorSpec(shape=(), dtype=tf.resource, name=None)\n",
            "  136269039670848: TensorSpec(shape=(), dtype=tf.resource, name=None)\n",
            "  136269039668208: TensorSpec(shape=(), dtype=tf.resource, name=None)\n",
            "  136269039669088: TensorSpec(shape=(), dtype=tf.resource, name=None)\n",
            "  136269039674192: TensorSpec(shape=(), dtype=tf.resource, name=None)\n",
            "  136269039673312: TensorSpec(shape=(), dtype=tf.resource, name=None)\n",
            "  136269039678592: TensorSpec(shape=(), dtype=tf.resource, name=None)\n",
            "  136269039674720: TensorSpec(shape=(), dtype=tf.resource, name=None)\n",
            "  136269039675600: TensorSpec(shape=(), dtype=tf.resource, name=None)\n",
            "  136269039680176: TensorSpec(shape=(), dtype=tf.resource, name=None)\n",
            "  136269040337312: TensorSpec(shape=(), dtype=tf.resource, name=None)\n",
            "  136269040338016: TensorSpec(shape=(), dtype=tf.resource, name=None)\n",
            "  136269040337488: TensorSpec(shape=(), dtype=tf.resource, name=None)\n",
            "  136269040337664: TensorSpec(shape=(), dtype=tf.resource, name=None)\n",
            "  136269040342944: TensorSpec(shape=(), dtype=tf.resource, name=None)\n",
            "  136269040342240: TensorSpec(shape=(), dtype=tf.resource, name=None)\n",
            "  136269040347344: TensorSpec(shape=(), dtype=tf.resource, name=None)\n",
            "  136269040343472: TensorSpec(shape=(), dtype=tf.resource, name=None)\n",
            "  136269040344352: TensorSpec(shape=(), dtype=tf.resource, name=None)\n",
            "  136269040350688: TensorSpec(shape=(), dtype=tf.resource, name=None)\n",
            "  136269040436320: TensorSpec(shape=(), dtype=tf.resource, name=None)\n",
            "  136269040437728: TensorSpec(shape=(), dtype=tf.resource, name=None)\n",
            "  136269040352976: TensorSpec(shape=(), dtype=tf.resource, name=None)\n",
            "  136269040351568: TensorSpec(shape=(), dtype=tf.resource, name=None)\n",
            "  136269040439312: TensorSpec(shape=(), dtype=tf.resource, name=None)\n",
            "  136269040438608: TensorSpec(shape=(), dtype=tf.resource, name=None)\n",
            "  136269040443712: TensorSpec(shape=(), dtype=tf.resource, name=None)\n",
            "  136269040439840: TensorSpec(shape=(), dtype=tf.resource, name=None)\n",
            "  136269040440720: TensorSpec(shape=(), dtype=tf.resource, name=None)\n",
            "  136269040444768: TensorSpec(shape=(), dtype=tf.resource, name=None)\n",
            "  136269040443360: TensorSpec(shape=(), dtype=tf.resource, name=None)\n",
            "  136269040449168: TensorSpec(shape=(), dtype=tf.resource, name=None)\n",
            "  136269040445296: TensorSpec(shape=(), dtype=tf.resource, name=None)\n",
            "  136269040446176: TensorSpec(shape=(), dtype=tf.resource, name=None)\n",
            "  136269040450400: TensorSpec(shape=(), dtype=tf.resource, name=None)\n",
            "  136269038404704: TensorSpec(shape=(), dtype=tf.resource, name=None)\n",
            "  136269038406640: TensorSpec(shape=(), dtype=tf.resource, name=None)\n",
            "  136269038404176: TensorSpec(shape=(), dtype=tf.resource, name=None)\n",
            "  136269038404880: TensorSpec(shape=(), dtype=tf.resource, name=None)\n",
            "  136269038409984: TensorSpec(shape=(), dtype=tf.resource, name=None)\n",
            "  136269038409280: TensorSpec(shape=(), dtype=tf.resource, name=None)\n",
            "  136269038414384: TensorSpec(shape=(), dtype=tf.resource, name=None)\n",
            "  136269038410512: TensorSpec(shape=(), dtype=tf.resource, name=None)\n",
            "  136269038411392: TensorSpec(shape=(), dtype=tf.resource, name=None)\n",
            "  136269038416672: TensorSpec(shape=(), dtype=tf.resource, name=None)\n",
            "  136269038419136: TensorSpec(shape=(), dtype=tf.resource, name=None)\n",
            "  136269038535952: TensorSpec(shape=(), dtype=tf.resource, name=None)\n",
            "  136269038417552: TensorSpec(shape=(), dtype=tf.resource, name=None)\n",
            "  136269038417200: TensorSpec(shape=(), dtype=tf.resource, name=None)\n",
            "  136269038538064: TensorSpec(shape=(), dtype=tf.resource, name=None)\n",
            "  136269038537184: TensorSpec(shape=(), dtype=tf.resource, name=None)\n",
            "  136269038541232: TensorSpec(shape=(), dtype=tf.resource, name=None)\n",
            "  136269038538592: TensorSpec(shape=(), dtype=tf.resource, name=None)\n",
            "  136269038539472: TensorSpec(shape=(), dtype=tf.resource, name=None)\n",
            "  136269038544576: TensorSpec(shape=(), dtype=tf.resource, name=None)\n",
            "  136269038543872: TensorSpec(shape=(), dtype=tf.resource, name=None)\n",
            "  136269038548976: TensorSpec(shape=(), dtype=tf.resource, name=None)\n",
            "  136269038545104: TensorSpec(shape=(), dtype=tf.resource, name=None)\n",
            "  136269038545984: TensorSpec(shape=(), dtype=tf.resource, name=None)\n",
            "  136269038618224: TensorSpec(shape=(), dtype=tf.resource, name=None)\n",
            "  136269038617696: TensorSpec(shape=(), dtype=tf.resource, name=None)\n",
            "  136269038620160: TensorSpec(shape=(), dtype=tf.resource, name=None)\n",
            "  136269038617520: TensorSpec(shape=(), dtype=tf.resource, name=None)\n",
            "  136269038618400: TensorSpec(shape=(), dtype=tf.resource, name=None)\n",
            "  136269038623504: TensorSpec(shape=(), dtype=tf.resource, name=None)\n",
            "  136269038622624: TensorSpec(shape=(), dtype=tf.resource, name=None)\n",
            "  136269038627904: TensorSpec(shape=(), dtype=tf.resource, name=None)\n",
            "  136269038624032: TensorSpec(shape=(), dtype=tf.resource, name=None)\n",
            "  136269038624912: TensorSpec(shape=(), dtype=tf.resource, name=None)\n",
            "  136269038630016: TensorSpec(shape=(), dtype=tf.resource, name=None)\n",
            "  136269038632480: TensorSpec(shape=(), dtype=tf.resource, name=None)\n",
            "  136269038683760: TensorSpec(shape=(), dtype=tf.resource, name=None)\n",
            "  136269038630896: TensorSpec(shape=(), dtype=tf.resource, name=None)\n",
            "  136269038630544: TensorSpec(shape=(), dtype=tf.resource, name=None)\n",
            "  136269038684816: TensorSpec(shape=(), dtype=tf.resource, name=None)\n",
            "  136269038684288: TensorSpec(shape=(), dtype=tf.resource, name=None)\n",
            "  136269038687984: TensorSpec(shape=(), dtype=tf.resource, name=None)\n",
            "  136269038685344: TensorSpec(shape=(), dtype=tf.resource, name=None)\n",
            "  136269038686224: TensorSpec(shape=(), dtype=tf.resource, name=None)\n",
            "  136269038904320: TensorSpec(shape=(), dtype=tf.resource, name=None)\n",
            "  136269038908544: TensorSpec(shape=(), dtype=tf.resource, name=None)\n"
          ]
        }
      ]
    },
    {
      "cell_type": "code",
      "source": [
        "# Guardar el modelo convertido en un archivo .tflite\n",
        "with open('modelo_mobilenet.tflite', 'wb') as f:\n",
        "    f.write(tflite_model)"
      ],
      "metadata": {
        "id": "_JHiJlsK3Pc5"
      },
      "execution_count": null,
      "outputs": []
    },
    {
      "cell_type": "code",
      "source": [
        "# Ruta de tu modelo .tflite\n",
        "tflite_model_path = '/content/modelo_mobilenet.tflite'\n",
        "\n",
        "# Carga el modelo TFLite\n",
        "interpreter = tf.lite.Interpreter(model_path=tflite_model_path)\n",
        "interpreter.allocate_tensors()"
      ],
      "metadata": {
        "id": "IdHNiL2KEnjG"
      },
      "execution_count": null,
      "outputs": []
    },
    {
      "cell_type": "code",
      "source": [
        "# Obtiene detalles de entrada y salida\n",
        "input_details = interpreter.get_input_details()\n",
        "output_details = interpreter.get_output_details()\n",
        "\n",
        "# Imprime información sobre la entrada\n",
        "input_shape = input_details[0]['shape']\n",
        "output_shape = output_details[0]['shape']\n",
        "print(\"Forma de entrada:\", input_shape)\n",
        "print(\"Forma de salida:\", output_shape)"
      ],
      "metadata": {
        "colab": {
          "base_uri": "https://localhost:8080/"
        },
        "id": "eRaTQYuiE0ws",
        "outputId": "8637d220-c2f1-47c7-cdd2-ba971075b863"
      },
      "execution_count": null,
      "outputs": [
        {
          "output_type": "stream",
          "name": "stdout",
          "text": [
            "Forma de entrada: [  1 224 224   3]\n",
            "Forma de salida: [1 3]\n"
          ]
        }
      ]
    },
    {
      "cell_type": "code",
      "source": [
        "from PIL import Image"
      ],
      "metadata": {
        "id": "rs0072MAFNJG"
      },
      "execution_count": null,
      "outputs": []
    },
    {
      "cell_type": "code",
      "source": [
        "def preprocess_image(image_path):\n",
        "    img = Image.open(image_path).convert('RGB')\n",
        "    img = img.resize((224, 224))  # Ajusta el tamaño a lo esperado por MobileNetV2\n",
        "    img_array = np.array(img, dtype=np.float32)\n",
        "    #img_array = preprocess_input(img_array)  # Usa el mismo preprocesamiento\n",
        "    img_array = np.expand_dims(img_array, axis=0)\n",
        "    return img_array"
      ],
      "metadata": {
        "id": "ZdrqvB4gFEFL"
      },
      "execution_count": null,
      "outputs": []
    },
    {
      "cell_type": "code",
      "source": [
        "# Ruta de la imagen de prueba\n",
        "test_image_path = '/content/nt1.JPG'\n",
        "\n",
        "# Preprocesa la imagen\n",
        "input_data = preprocess_image(test_image_path)\n",
        "\n",
        "# Configura el tensor de entrada\n",
        "interpreter.set_tensor(input_details[0]['index'], input_data)\n",
        "\n",
        "# Ejecuta la inferencia\n",
        "interpreter.invoke()\n",
        "\n",
        "# Obtiene la salida\n",
        "output_data = interpreter.get_tensor(output_details[0]['index'])\n",
        "\n",
        "# Imprime los resultados\n",
        "print(\"Resultados de inferencia:\", output_data)\n",
        "# Si es una clasificación, podrías obtener la clase de mayor confianza\n",
        "predicted_class = np.argmax(output_data)\n",
        "print(\"Clase predicha:\", predicted_class)"
      ],
      "metadata": {
        "colab": {
          "base_uri": "https://localhost:8080/"
        },
        "id": "nzUwRZVRFEwi",
        "outputId": "40205b31-5a8c-47a5-f403-6afc60c9af28"
      },
      "execution_count": null,
      "outputs": [
        {
          "output_type": "stream",
          "name": "stdout",
          "text": [
            "Resultados de inferencia: [[0.3774003  0.5381916  0.08440804]]\n",
            "Clase predicha: 1\n"
          ]
        }
      ]
    },
    {
      "cell_type": "code",
      "source": [
        "# Directorio de entrenamiento utilizado para entrenar el modelo\n",
        "train_dir = '/content/dataset/Dataset/train'\n",
        "labels = sorted(os.listdir(train_dir))\n",
        "\n",
        "# Usando los resultados de inferencia anteriores\n",
        "predicted_class = np.argmax(output_data)\n",
        "predicted_label = labels[predicted_class]\n",
        "\n",
        "print(\"Índice de la clase predicha:\", predicted_class)\n",
        "print(\"Etiqueta de la clase predicha:\", predicted_label)"
      ],
      "metadata": {
        "colab": {
          "base_uri": "https://localhost:8080/"
        },
        "id": "WjDgT0-nG38N",
        "outputId": "7242f7f7-4c07-4163-8987-b25e03176d19"
      },
      "execution_count": null,
      "outputs": [
        {
          "output_type": "stream",
          "name": "stdout",
          "text": [
            "Índice de la clase predicha: 1\n",
            "Etiqueta de la clase predicha: sana\n"
          ]
        }
      ]
    },
    {
      "cell_type": "code",
      "source": [
        "# Directorio de imágenes y etiquetas de clases\n",
        "test_dir = DATASET_DIR_VALID\n",
        "class_names = sorted(os.listdir(test_dir))  # Asume que los nombres de carpeta son las clases en orden alfabético\n",
        "\n",
        "# Contadores de evaluación\n",
        "total_images = 0\n",
        "correct_predictions = 0\n",
        "\n",
        "# Evaluación por cada clase\n",
        "for class_index, class_name in enumerate(class_names):\n",
        "    class_path = os.path.join(test_dir, class_name)\n",
        "    for image_name in os.listdir(class_path):\n",
        "        image_path = os.path.join(class_path, image_name)\n",
        "        input_data = preprocess_image(image_path)\n",
        "\n",
        "        # Ejecuta la inferencia\n",
        "        interpreter.set_tensor(input_details[0]['index'], input_data)\n",
        "        interpreter.invoke()\n",
        "        output_data = interpreter.get_tensor(output_details[0]['index'])\n",
        "        predicted_class = np.argmax(output_data)\n",
        "\n",
        "        # Verifica si la predicción es correcta\n",
        "        if predicted_class == class_index:\n",
        "            correct_predictions += 1\n",
        "        total_images += 1\n",
        "\n",
        "# Calcula el porcentaje de aciertos\n",
        "accuracy = correct_predictions / total_images * 100\n",
        "print(f\"Precisión en el conjunto de prueba: {accuracy:.2f}%\")"
      ],
      "metadata": {
        "colab": {
          "base_uri": "https://localhost:8080/"
        },
        "id": "12vpa7TFKX--",
        "outputId": "765828d8-0673-402e-f013-7e859056888f"
      },
      "execution_count": null,
      "outputs": [
        {
          "output_type": "stream",
          "name": "stdout",
          "text": [
            "Precisión en el conjunto de prueba: 25.15%\n"
          ]
        }
      ]
    },
    {
      "cell_type": "code",
      "source": [
        "test_image_path = '/content/s1.JPG'"
      ],
      "metadata": {
        "id": "dtVKr3DTM04K"
      },
      "execution_count": null,
      "outputs": []
    },
    {
      "cell_type": "code",
      "source": [
        "# Inferencia con el modelo Keras\n",
        "keras_predictions = model_mobilenet.__call__(preprocess_image(test_image_path))\n",
        "\n",
        "# Inferencia con el modelo TFLite\n",
        "interpreter.set_tensor(input_details[0]['index'], preprocess_image(test_image_path))\n",
        "interpreter.invoke()\n",
        "tflite_predictions = interpreter.get_tensor(output_details[0]['index'])\n",
        "\n",
        "print(\"Predicción Keras:\", keras_predictions)\n",
        "print(\"Predicción TFLite:\", tflite_predictions)"
      ],
      "metadata": {
        "colab": {
          "base_uri": "https://localhost:8080/"
        },
        "id": "3T8eVdjQMqfn",
        "outputId": "44483db8-e39d-4b7c-b027-b7811b6a7eab"
      },
      "execution_count": null,
      "outputs": [
        {
          "output_type": "stream",
          "name": "stdout",
          "text": [
            "Predicción Keras: tf.Tensor([[0.13886005 0.7325633  0.12857668]], shape=(1, 3), dtype=float32)\n",
            "Predicción TFLite: [[0.13885878 0.7325654  0.12857577]]\n"
          ]
        }
      ]
    }
  ]
}